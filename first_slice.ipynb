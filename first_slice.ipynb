{
  "nbformat": 4,
  "nbformat_minor": 0,
  "metadata": {
    "colab": {
      "name": "first slice.ipynb",
      "provenance": [],
      "authorship_tag": "ABX9TyOrFZ3/A5nC0zOagolNDd2f",
      "include_colab_link": true
    },
    "kernelspec": {
      "name": "python3",
      "display_name": "Python 3"
    }
  },
  "cells": [
    {
      "cell_type": "markdown",
      "metadata": {
        "id": "view-in-github",
        "colab_type": "text"
      },
      "source": [
        "<a href=\"https://colab.research.google.com/github/jgprps/studious-giggle/blob/master/first_slice.ipynb\" target=\"_parent\"><img src=\"https://colab.research.google.com/assets/colab-badge.svg\" alt=\"Open In Colab\"/></a>"
      ]
    },
    {
      "cell_type": "code",
      "metadata": {
        "id": "VBzmOxpUAZq-",
        "colab_type": "code",
        "colab": {
          "base_uri": "https://localhost:8080/",
          "height": 102
        },
        "outputId": "20fb4919-b02d-4f36-a8a7-a2052e28d889"
      },
      "source": [
        "import numpy as np \n",
        "arr = np.zeros((3,3)) \n",
        "print(arr) \n",
        "arr_slice = arr[:2,] \n",
        "print(arr_slice)\n"
      ],
      "execution_count": 2,
      "outputs": [
        {
          "output_type": "stream",
          "text": [
            "[[0. 0. 0.]\n",
            " [0. 0. 0.]\n",
            " [0. 0. 0.]]\n",
            "[[0. 0. 0.]\n",
            " [0. 0. 0.]]\n"
          ],
          "name": "stdout"
        }
      ]
    },
    {
      "cell_type": "markdown",
      "metadata": {
        "id": "-a1SqyQ3AxS9",
        "colab_type": "text"
      },
      "source": [
        "Note in code above, the first argument of zeros is (shape) so you need parens around that argument as well as ALL arguments.  Hence the double parens."
      ]
    }
  ]
}