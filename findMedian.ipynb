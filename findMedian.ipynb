{
  "nbformat": 4,
  "nbformat_minor": 0,
  "metadata": {
    "colab": {
      "name": "findMedian.ipynb",
      "provenance": [],
      "authorship_tag": "ABX9TyOmK0mgutIzCUfMqDhTqcH/",
      "include_colab_link": true
    },
    "kernelspec": {
      "name": "python3",
      "display_name": "Python 3"
    }
  },
  "cells": [
    {
      "cell_type": "markdown",
      "metadata": {
        "id": "view-in-github",
        "colab_type": "text"
      },
      "source": [
        "<a href=\"https://colab.research.google.com/github/jgprps/studious-giggle/blob/master/findMedian.ipynb\" target=\"_parent\"><img src=\"https://colab.research.google.com/assets/colab-badge.svg\" alt=\"Open In Colab\"/></a>"
      ]
    },
    {
      "cell_type": "code",
      "metadata": {
        "id": "QDeWomg8QuMx",
        "colab_type": "code",
        "colab": {
          "base_uri": "https://localhost:8080/",
          "height": 765
        },
        "outputId": "547d1774-7182-4f18-e3fb-00efb963bc87"
      },
      "source": [
        "numberList = [8,50,83,44,91,20,19]\n",
        "listSize   = len(numberList)\n",
        "sortPosn   = 0\n",
        "location   = sortPosn\n",
        "\n",
        "\n",
        "#outer Loop tracks the position of the current sorted array.\n",
        " \n",
        "while (sortPosn < listSize ):\n",
        "\n",
        "    smallest = numberList[sortPosn] # your sortPosition must keep moving forward until the last list element. list keeps getting shorter.\n",
        "    i        = sortPosn+1\n",
        "    print(\"I is: \" + str(i))\n",
        "\n",
        "    while(i < listSize):  # identify the smallest one\n",
        "       if(numberList[i] < smallest):\n",
        "           smallest = numberList[i]\n",
        "           location = i\n",
        "       i = i+1\n",
        "    \n",
        "   \n",
        "    print(\"Location is \" + str(location))\n",
        "    print(\"Sort Position is \" + str(sortPosn))\n",
        "\n",
        "    temp = numberList[sortPosn] # save the jth element of list\n",
        "\n",
        "    if(temp != smallest):            #SWAP:  no need to swap if equal, location only updates if sort condition met above, could overwrite data.\n",
        "       numberList[sortPosn] = smallest #swap/place the smallest value in j position.\n",
        "       numberList[location] = temp #preserve the temp value for your next comparison run.\n",
        "\n",
        "    print(\"smallest is: \" + str(smallest))\n",
        "    print(\"temp is : \" + str(temp))\n",
        "\n",
        "    sortPosn = sortPosn+1  # now 'shorten' the list to only compare from the next jth position forward.\n",
        "    \n",
        "    print(\"Current list is \" + str(numberList))\n",
        "\n",
        "# Finally, Take the middle item of the sorted list\n",
        "\n",
        "medianPosn = listSize//2\n",
        "print(medianPosn)\n",
        "median     = numberList[medianPosn]\n",
        "print(\"The median is: \" + str(median))\n",
        "\n"
      ],
      "execution_count": 1,
      "outputs": [
        {
          "output_type": "stream",
          "text": [
            "I is: 1\n",
            "Location is 0\n",
            "Sort Position is 0\n",
            "smallest is: 8\n",
            "temp is : 8\n",
            "Current list is [8, 50, 83, 44, 91, 20, 19]\n",
            "I is: 2\n",
            "Location is 6\n",
            "Sort Position is 1\n",
            "smallest is: 19\n",
            "temp is : 50\n",
            "Current list is [8, 19, 83, 44, 91, 20, 50]\n",
            "I is: 3\n",
            "Location is 5\n",
            "Sort Position is 2\n",
            "smallest is: 20\n",
            "temp is : 83\n",
            "Current list is [8, 19, 20, 44, 91, 83, 50]\n",
            "I is: 4\n",
            "Location is 5\n",
            "Sort Position is 3\n",
            "smallest is: 44\n",
            "temp is : 44\n",
            "Current list is [8, 19, 20, 44, 91, 83, 50]\n",
            "I is: 5\n",
            "Location is 6\n",
            "Sort Position is 4\n",
            "smallest is: 50\n",
            "temp is : 91\n",
            "Current list is [8, 19, 20, 44, 50, 83, 91]\n",
            "I is: 6\n",
            "Location is 6\n",
            "Sort Position is 5\n",
            "smallest is: 83\n",
            "temp is : 83\n",
            "Current list is [8, 19, 20, 44, 50, 83, 91]\n",
            "I is: 7\n",
            "Location is 6\n",
            "Sort Position is 6\n",
            "smallest is: 91\n",
            "temp is : 91\n",
            "Current list is [8, 19, 20, 44, 50, 83, 91]\n",
            "3\n",
            "The median is: 44\n"
          ],
          "name": "stdout"
        }
      ]
    }
  ]
}