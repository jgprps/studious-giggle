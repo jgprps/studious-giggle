{
  "nbformat": 4,
  "nbformat_minor": 0,
  "metadata": {
    "colab": {
      "name": "firstStatMethods.ipynb",
      "provenance": [],
      "authorship_tag": "ABX9TyPNV27jvQCZoSuxm+fbUvBU",
      "include_colab_link": true
    },
    "kernelspec": {
      "name": "python3",
      "display_name": "Python 3"
    }
  },
  "cells": [
    {
      "cell_type": "markdown",
      "metadata": {
        "id": "view-in-github",
        "colab_type": "text"
      },
      "source": [
        "<a href=\"https://colab.research.google.com/github/jgprps/studious-giggle/blob/master/firstStatMethods.ipynb\" target=\"_parent\"><img src=\"https://colab.research.google.com/assets/colab-badge.svg\" alt=\"Open In Colab\"/></a>"
      ]
    },
    {
      "cell_type": "code",
      "metadata": {
        "id": "AsimLCcoLjQj",
        "colab_type": "code",
        "colab": {
          "base_uri": "https://localhost:8080/",
          "height": 153
        },
        "outputId": "4be34e28-5e97-44de-bb1b-60def08b305d"
      },
      "source": [
        "import numpy as np\n",
        "arr = 10 * np.random.randn(2,5) #generate an array of random numbers in a 2 row by 5 col matrix\n",
        "print(arr)\n",
        "print(arr.mean())\n",
        "#compute mean by row\n",
        "print(arr.mean(axis=1)) #get an array of means per row. Axis = 0 for column mean\n",
        "print(arr.sum())\n",
        "print(np.median(arr, axis = 1)) #median of rows\n",
        "arr.sort()\n",
        "print(arr)\n",
        "\n",
        "\n",
        "\n"
      ],
      "execution_count": 7,
      "outputs": [
        {
          "output_type": "stream",
          "text": [
            "[[ -5.91617764   7.68384088  -2.92679551  12.26978813  -4.70531877]\n",
            " [-15.20871365   4.50523483   2.19625733   1.39927343  -2.51465303]]\n",
            "-0.3217263988110886\n",
            "[ 1.28106742 -1.92452022]\n",
            "-3.217263988110886\n",
            "[-2.92679551  1.39927343]\n",
            "[[ -5.91617764  -4.70531877  -2.92679551   7.68384088  12.26978813]\n",
            " [-15.20871365  -2.51465303   1.39927343   2.19625733   4.50523483]]\n"
          ],
          "name": "stdout"
        }
      ]
    }
  ]
}