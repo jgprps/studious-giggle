{
  "nbformat": 4,
  "nbformat_minor": 0,
  "metadata": {
    "colab": {
      "name": "firstFilter.ipynb",
      "provenance": [],
      "authorship_tag": "ABX9TyM0mMYmsLgg0KWYTEL9giMS",
      "include_colab_link": true
    },
    "kernelspec": {
      "name": "python3",
      "display_name": "Python 3"
    }
  },
  "cells": [
    {
      "cell_type": "markdown",
      "metadata": {
        "id": "view-in-github",
        "colab_type": "text"
      },
      "source": [
        "<a href=\"https://colab.research.google.com/github/jgprps/studious-giggle/blob/master/firstFilter.ipynb\" target=\"_parent\"><img src=\"https://colab.research.google.com/assets/colab-badge.svg\" alt=\"Open In Colab\"/></a>"
      ]
    },
    {
      "cell_type": "code",
      "metadata": {
        "id": "FNUJkmNPDI-8",
        "colab_type": "code",
        "colab": {
          "base_uri": "https://localhost:8080/",
          "height": 68
        },
        "outputId": "22b3b285-aad3-43f5-f38d-195069ce1575"
      },
      "source": [
        "import numpy as np\n",
        "an_array = np.array([[11,12], [21,22], [31,32]])\n",
        "print(an_array)"
      ],
      "execution_count": 2,
      "outputs": [
        {
          "output_type": "stream",
          "text": [
            "[[11 12]\n",
            " [21 22]\n",
            " [31 32]]\n"
          ],
          "name": "stdout"
        }
      ]
    },
    {
      "cell_type": "code",
      "metadata": {
        "id": "n3qa8JpdD_cS",
        "colab_type": "code",
        "colab": {
          "base_uri": "https://localhost:8080/",
          "height": 68
        },
        "outputId": "dd914efa-cb96-4ec6-9afa-e3f4889f0b4f"
      },
      "source": [
        "filter = (an_array > 15)  \n",
        "filter"
      ],
      "execution_count": 3,
      "outputs": [
        {
          "output_type": "execute_result",
          "data": {
            "text/plain": [
              "array([[False, False],\n",
              "       [ True,  True],\n",
              "       [ True,  True]])"
            ]
          },
          "metadata": {
            "tags": []
          },
          "execution_count": 3
        }
      ]
    },
    {
      "cell_type": "code",
      "metadata": {
        "id": "f8_rJa0IEnuR",
        "colab_type": "code",
        "colab": {
          "base_uri": "https://localhost:8080/",
          "height": 34
        },
        "outputId": "3093b277-9b45-4d6a-ad74-62b6583ae810"
      },
      "source": [
        "an_array[an_array > 15] # can apply filter directly"
      ],
      "execution_count": 5,
      "outputs": [
        {
          "output_type": "execute_result",
          "data": {
            "text/plain": [
              "array([21, 22, 31, 32])"
            ]
          },
          "metadata": {
            "tags": []
          },
          "execution_count": 5
        }
      ]
    },
    {
      "cell_type": "code",
      "metadata": {
        "id": "sUuEaYenE5_Q",
        "colab_type": "code",
        "colab": {
          "base_uri": "https://localhost:8080/",
          "height": 68
        },
        "outputId": "e780b161-7537-42f1-fde9-7ee9c9bb829b"
      },
      "source": [
        "an_array[an_array % 2 == 0] +=100 #modify the array in situ adding 100 to all elements that meet the filter even number\n",
        "print(an_array)"
      ],
      "execution_count": 7,
      "outputs": [
        {
          "output_type": "stream",
          "text": [
            "[[ 11 212]\n",
            " [ 21 222]\n",
            " [ 31 232]]\n"
          ],
          "name": "stdout"
        }
      ]
    }
  ]
}